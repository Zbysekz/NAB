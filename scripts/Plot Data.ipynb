{
 "cells": [
  {
   "cell_type": "code",
   "execution_count": null,
   "metadata": {},
   "outputs": [],
   "source": [
    "import warnings\n",
    "import itertools\n",
    "import pandas\n",
    "import math\n",
    "import sys\n",
    "import os\n",
    "import numpy as np\n",
    "from plotly.offline import download_plotlyjs, init_notebook_mode, plot, iplot\n",
    "init_notebook_mode(connected=True)"
   ]
  },
  {
   "cell_type": "code",
   "execution_count": null,
   "metadata": {},
   "outputs": [],
   "source": [
    "# Add your data file to plot\n",
    "data_file = \"../data/realTweets/Twitter_volume_AAPL.csv\""
   ]
  },
  {
   "cell_type": "code",
   "execution_count": null,
   "metadata": {},
   "outputs": [],
   "source": [
    "# Plot Data (Note if the plot is not visible please close the tab shutdown notebook and restart)\n",
    "assert os.path.isfile(data_file), \"No such file:\"+str(data_file)\n",
    "dataframe = pandas.read_csv(data_file)\n",
    "\n",
    "assert set(['timestamp','value']).issubset(dataframe.columns), \"Missing columns in file:\"+str(data_file)+\" , cols:\"+str(dataframe.columns)\n",
    "\n",
    "x = np.array(dataframe['timestamp'])\n",
    "y = np.array(dataframe['value'])\n",
    "\n",
    "mean = np.mean(y)\n",
    "\n",
    "trace = {\"x\": x,\n",
    "             \"y\": y,\n",
    "             \"mode\": 'lines',\n",
    "             \"name\": 'Value'}\n",
    "trace_mean = {\"x\": x,\n",
    "                  \"y\": np.ones(len(x))*mean,\n",
    "                  \"mode\": 'lines',\n",
    "                  \"name\": 'Mean'}\n",
    "traces = [trace,trace_mean]\n",
    "layout = dict(title = \"Data plot : \"+data_file,\n",
    "                  xaxis = dict(title = 'X'),\n",
    "                  yaxis = dict(title = 'Value')\n",
    "                 )\n",
    "fig = dict(data=traces, layout=layout)\n",
    "iplot(fig)"
   ]
  }
 ],
 "metadata": {
  "kernelspec": {
   "display_name": "Python 3",
   "language": "python",
   "name": "python3"
  },
  "language_info": {
   "codemirror_mode": {
    "name": "ipython",
    "version": 3
   },
   "file_extension": ".py",
   "mimetype": "text/x-python",
   "name": "python",
   "nbconvert_exporter": "python",
   "pygments_lexer": "ipython3",
   "version": "3.7.0"
  }
 },
 "nbformat": 4,
 "nbformat_minor": 2
}
